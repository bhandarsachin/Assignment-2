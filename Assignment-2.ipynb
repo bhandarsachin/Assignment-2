{
 "cells": [
  {
   "cell_type": "code",
   "execution_count": null,
   "id": "2fe081b3-fc0b-4cd9-8a64-ab53bde1dc7e",
   "metadata": {},
   "outputs": [],
   "source": [
    "Q1. How do you comment code in Python? What are the different types of comments?\n"
   ]
  },
  {
   "cell_type": "code",
   "execution_count": null,
   "id": "b982bb3c-5db7-4027-bea2-a08e1eef0880",
   "metadata": {},
   "outputs": [],
   "source": [
    "There are three types of comments: single-line, multi-line, and docstring comments."
   ]
  },
  {
   "cell_type": "code",
   "execution_count": null,
   "id": "945642e6-193c-4fce-b1fa-39fc72a0ab40",
   "metadata": {},
   "outputs": [],
   "source": [
    "Q2. What are variables in Python? How do you declare and assign values to variables?"
   ]
  },
  {
   "cell_type": "code",
   "execution_count": null,
   "id": "d83386f7-66f8-457f-a8cf-e65f21c99517",
   "metadata": {},
   "outputs": [],
   "source": [
    "A variable is created when some value is assigned to it. The value assigned to a variable determines the data type of that variable.\n",
    "EXAMPLE\n",
    "a = 4\n",
    "b = 3"
   ]
  },
  {
   "cell_type": "code",
   "execution_count": null,
   "id": "a047f912-f456-4593-9a17-2f030b235eea",
   "metadata": {},
   "outputs": [],
   "source": [
    "Q3. How do you convert one data type to another in Python?"
   ]
  },
  {
   "cell_type": "code",
   "execution_count": null,
   "id": "13934c4b-e0de-4002-9e88-d8e1a379f790",
   "metadata": {},
   "outputs": [],
   "source": [
    "Python defines type conversion functions like int(), float(), str() to directly convert one data type into another.\n"
   ]
  },
  {
   "cell_type": "code",
   "execution_count": null,
   "id": "cb1c2d4f-b252-484c-aa38-3819fd8ceb48",
   "metadata": {},
   "outputs": [],
   "source": [
    "Q4. How do you write and execute a Python script from the command line?"
   ]
  },
  {
   "cell_type": "code",
   "execution_count": null,
   "id": "fee34fd3-3387-4cc2-b9a1-26ec4062b6b9",
   "metadata": {},
   "outputs": [],
   "source": [
    "Here are the ways with which we can run a Python script.\n",
    "\n",
    "Interactive Mode\n",
    "Command Line\n",
    "Text Editor (VS Code)\n",
    "IDE (PyCharm)\n",
    "\n",
    "Interactive Mode:\n",
    "In Interactive Mode, you can run your script line by line in a sequence.\n",
    "To enter in an interactive mode, you will have to open Command Prompt on your windows machine and type ‘python’ and press Enter.\n",
    "\n"
   ]
  },
  {
   "cell_type": "code",
   "execution_count": null,
   "id": "71747daf-7a78-4a20-a375-a7c74e5e8500",
   "metadata": {},
   "outputs": [],
   "source": [
    "Q5. Given a list my_list = [1, 2, 3, 4, 5], write the code to slice the list and obtain the sub-list [2, 3]."
   ]
  },
  {
   "cell_type": "code",
   "execution_count": 8,
   "id": "df9b1178-3c24-4c5a-8549-8d4be4c8e6e6",
   "metadata": {},
   "outputs": [
    {
     "name": "stdout",
     "output_type": "stream",
     "text": [
      "[2, 3]\n"
     ]
    }
   ],
   "source": [
    "my_list = [1, 2, 3, 4, 5]\n",
    "\n",
    "print(my_list[1:3])"
   ]
  },
  {
   "cell_type": "code",
   "execution_count": null,
   "id": "28807594-f4b4-460e-b45e-620c3e6520a6",
   "metadata": {},
   "outputs": [],
   "source": [
    "Q6. What is a complex number in mathematics, and how is it represented in Python?"
   ]
  },
  {
   "cell_type": "code",
   "execution_count": null,
   "id": "01533a03-76ae-431b-b563-55c5d3ada0ec",
   "metadata": {},
   "outputs": [],
   "source": [
    "complex number are imaginary numbers in mathematics , and in python as followes\n",
    "(x + yj) where x and y are real numbers and j is an imaginary number which is the square root of -1."
   ]
  },
  {
   "cell_type": "code",
   "execution_count": null,
   "id": "afd2894a-d212-4163-ba1b-09a49a8c82f7",
   "metadata": {},
   "outputs": [],
   "source": [
    "Q7. What is the correct way to declare a variable named age and assign the value 25 to it?"
   ]
  },
  {
   "cell_type": "code",
   "execution_count": null,
   "id": "b8255a43-a3b6-4df7-9d65-0ee0ea16f7f9",
   "metadata": {},
   "outputs": [],
   "source": [
    "In Python, we need not declare a variable with some specific data type.\n",
    "Python has no command for declaring a variable. A variable is created when some value is assigned to it. The value assigned to a variable determines the data type of that variable.\n",
    "name = sachin\n",
    "age= 25\n"
   ]
  },
  {
   "cell_type": "code",
   "execution_count": null,
   "id": "88940548-64f1-4852-ae32-59c2d856dc0a",
   "metadata": {},
   "outputs": [],
   "source": [
    "Q8. Declare a variable named price and assign the value 9.99 to it. What data type does this variable\n",
    "belong to?"
   ]
  },
  {
   "cell_type": "code",
   "execution_count": null,
   "id": "9fc35c11-14a1-4d70-84df-15fc6081a2a6",
   "metadata": {},
   "outputs": [],
   "source": [
    " price = 9.99\n",
    " This variable is float() type"
   ]
  },
  {
   "cell_type": "code",
   "execution_count": null,
   "id": "fbff787a-31a3-49cd-900c-b93eadd33082",
   "metadata": {},
   "outputs": [],
   "source": []
  },
  {
   "cell_type": "code",
   "execution_count": null,
   "id": "cdca015f-90f4-49f0-8592-d38670b29550",
   "metadata": {},
   "outputs": [],
   "source": [
    "Q9. Create a variable named name and assign your full name to it as a string. How would you print the\n",
    "value of this variable?"
   ]
  },
  {
   "cell_type": "code",
   "execution_count": 10,
   "id": "d142c56d-c18b-4df2-9ae3-fff6d59424c7",
   "metadata": {},
   "outputs": [
    {
     "name": "stdout",
     "output_type": "stream",
     "text": [
      "Sachin Bhandari\n"
     ]
    }
   ],
   "source": [
    "name  = \"Sachin Bhandari\"\n",
    "print(name)"
   ]
  },
  {
   "cell_type": "code",
   "execution_count": null,
   "id": "79ae585c-f15e-49c7-afe3-13dc9da4f3b0",
   "metadata": {},
   "outputs": [],
   "source": [
    "Q10. Given the string \"Hello, World!\", extract the substring \"World\"."
   ]
  },
  {
   "cell_type": "code",
   "execution_count": 16,
   "id": "c135c8b8-4261-44c3-8684-de641985e8b8",
   "metadata": {},
   "outputs": [
    {
     "name": "stdout",
     "output_type": "stream",
     "text": [
      "World\n"
     ]
    }
   ],
   "source": [
    "x = \"Hello, World!\"\n",
    "print(x[7:12])"
   ]
  },
  {
   "cell_type": "code",
   "execution_count": null,
   "id": "2b1c5cb6-f66b-4149-a935-5e28226f0b03",
   "metadata": {},
   "outputs": [],
   "source": []
  },
  {
   "cell_type": "code",
   "execution_count": null,
   "id": "b3f74adb-6ce5-423e-8f75-cb909461916c",
   "metadata": {},
   "outputs": [],
   "source": [
    "Q11. Create a variable named \"is_student\" and assign it a boolean value indicating whether you are\n",
    "currently a student or not."
   ]
  },
  {
   "cell_type": "code",
   "execution_count": 17,
   "id": "6227dd62-7200-4e71-a365-e975918d3228",
   "metadata": {},
   "outputs": [
    {
     "name": "stdout",
     "output_type": "stream",
     "text": [
      "True\n"
     ]
    }
   ],
   "source": [
    "is_student=True\n",
    "print(is_student)"
   ]
  },
  {
   "cell_type": "code",
   "execution_count": null,
   "id": "ae77edf5-2ac1-4d99-b0b9-ad647cfb29f1",
   "metadata": {},
   "outputs": [],
   "source": []
  }
 ],
 "metadata": {
  "kernelspec": {
   "display_name": "Python 3 (ipykernel)",
   "language": "python",
   "name": "python3"
  },
  "language_info": {
   "codemirror_mode": {
    "name": "ipython",
    "version": 3
   },
   "file_extension": ".py",
   "mimetype": "text/x-python",
   "name": "python",
   "nbconvert_exporter": "python",
   "pygments_lexer": "ipython3",
   "version": "3.10.8"
  }
 },
 "nbformat": 4,
 "nbformat_minor": 5
}
